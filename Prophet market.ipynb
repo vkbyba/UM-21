{
 "cells": [
  {
   "cell_type": "markdown",
   "metadata": {},
   "source": [
    "pip install prophet --quiet - встановіть через термінал."
   ]
  },
  {
   "cell_type": "markdown",
   "metadata": {},
   "source": [
    "Завантаження, та підготовка даних."
   ]
  },
  {
   "cell_type": "code",
   "execution_count": 2,
   "metadata": {},
   "outputs": [],
   "source": [
    "import pandas as pd\n",
    "from prophet import Prophet"
   ]
  },
  {
   "cell_type": "code",
   "execution_count": 3,
   "metadata": {},
   "outputs": [],
   "source": [
    "df = pd.read_csv('forecast_of_market_dataset.csv')"
   ]
  },
  {
   "cell_type": "code",
   "execution_count": 4,
   "metadata": {},
   "outputs": [],
   "source": [
    "df['month'] = pd.to_datetime(df['month'], dayfirst=True)"
   ]
  },
  {
   "cell_type": "markdown",
   "metadata": {},
   "source": [
    "Запуск моделі"
   ]
  },
  {
   "cell_type": "code",
   "execution_count": 5,
   "metadata": {},
   "outputs": [],
   "source": [
    "def forecast_for_target(df, target_col):\n",
    "    updated_rows = []\n",
    "\n",
    "    for group in df['product_group_id'].unique():\n",
    "        group_df = df[df['product_group_id'] == group].copy()\n",
    "\n",
    "        # Separate historical and future\n",
    "        hist = group_df[group_df[target_col].notna()][['month', target_col]].copy()\n",
    "        future = group_df[group_df[target_col].isna()][['month']].copy()\n",
    "\n",
    "        # Skip if not enough history\n",
    "        if len(hist) < 6:\n",
    "            continue\n",
    "\n",
    "        # Rename for Prophet\n",
    "        hist.rename(columns={'month': 'ds', target_col: 'y'}, inplace=True)\n",
    "\n",
    "        # Train model\n",
    "        model = Prophet()\n",
    "        model.fit(hist)\n",
    "\n",
    "        # Make future df\n",
    "        future.rename(columns={'month': 'ds'}, inplace=True)\n",
    "        forecast = model.predict(future)\n",
    "\n",
    "        # Get only predicted values\n",
    "        predicted = forecast[['ds', 'yhat']].copy()\n",
    "        predicted.rename(columns={'ds': 'month', 'yhat': target_col}, inplace=True)\n",
    "        predicted['product_group_id'] = group\n",
    "\n",
    "        updated_rows.append(predicted)\n",
    "\n",
    "    return pd.concat(updated_rows, ignore_index=True)"
   ]
  },
  {
   "cell_type": "code",
   "execution_count": 6,
   "metadata": {},
   "outputs": [
    {
     "name": "stderr",
     "output_type": "stream",
     "text": [
      "15:40:14 - cmdstanpy - INFO - Chain [1] start processing\n",
      "15:40:14 - cmdstanpy - INFO - Chain [1] done processing\n",
      "15:40:15 - cmdstanpy - INFO - Chain [1] start processing\n",
      "15:40:15 - cmdstanpy - INFO - Chain [1] done processing\n",
      "15:40:15 - cmdstanpy - INFO - Chain [1] start processing\n",
      "15:40:16 - cmdstanpy - INFO - Chain [1] done processing\n",
      "15:40:16 - cmdstanpy - INFO - Chain [1] start processing\n",
      "15:40:16 - cmdstanpy - INFO - Chain [1] done processing\n",
      "15:40:17 - cmdstanpy - INFO - Chain [1] start processing\n",
      "15:40:17 - cmdstanpy - INFO - Chain [1] done processing\n",
      "15:40:17 - cmdstanpy - INFO - Chain [1] start processing\n",
      "15:40:18 - cmdstanpy - INFO - Chain [1] done processing\n",
      "15:40:18 - cmdstanpy - INFO - Chain [1] start processing\n",
      "15:40:19 - cmdstanpy - INFO - Chain [1] done processing\n",
      "15:40:19 - cmdstanpy - INFO - Chain [1] start processing\n",
      "15:40:19 - cmdstanpy - INFO - Chain [1] done processing\n",
      "15:40:20 - cmdstanpy - INFO - Chain [1] start processing\n",
      "15:40:20 - cmdstanpy - INFO - Chain [1] done processing\n",
      "15:40:20 - cmdstanpy - INFO - Chain [1] start processing\n",
      "15:40:21 - cmdstanpy - INFO - Chain [1] done processing\n",
      "15:40:21 - cmdstanpy - INFO - Chain [1] start processing\n",
      "15:40:21 - cmdstanpy - INFO - Chain [1] done processing\n",
      "15:40:21 - cmdstanpy - INFO - Chain [1] start processing\n",
      "15:40:21 - cmdstanpy - INFO - Chain [1] done processing\n",
      "15:40:22 - cmdstanpy - INFO - Chain [1] start processing\n",
      "15:40:22 - cmdstanpy - INFO - Chain [1] done processing\n",
      "15:40:22 - cmdstanpy - INFO - Chain [1] start processing\n",
      "15:40:23 - cmdstanpy - INFO - Chain [1] done processing\n",
      "15:40:23 - cmdstanpy - INFO - Chain [1] start processing\n",
      "15:40:23 - cmdstanpy - INFO - Chain [1] done processing\n",
      "15:40:24 - cmdstanpy - INFO - Chain [1] start processing\n",
      "15:40:24 - cmdstanpy - INFO - Chain [1] done processing\n",
      "15:40:24 - cmdstanpy - INFO - Chain [1] start processing\n",
      "15:40:24 - cmdstanpy - INFO - Chain [1] done processing\n",
      "15:40:24 - cmdstanpy - INFO - Chain [1] start processing\n",
      "15:40:25 - cmdstanpy - INFO - Chain [1] done processing\n",
      "15:40:26 - cmdstanpy - INFO - Chain [1] start processing\n",
      "15:40:26 - cmdstanpy - INFO - Chain [1] done processing\n",
      "15:40:26 - cmdstanpy - INFO - Chain [1] start processing\n",
      "15:40:26 - cmdstanpy - INFO - Chain [1] done processing\n",
      "15:40:27 - cmdstanpy - INFO - Chain [1] start processing\n",
      "15:40:27 - cmdstanpy - INFO - Chain [1] done processing\n",
      "15:40:27 - cmdstanpy - INFO - Chain [1] start processing\n",
      "15:40:27 - cmdstanpy - INFO - Chain [1] done processing\n",
      "15:40:28 - cmdstanpy - INFO - Chain [1] start processing\n",
      "15:40:28 - cmdstanpy - INFO - Chain [1] done processing\n",
      "15:40:28 - cmdstanpy - INFO - Chain [1] start processing\n",
      "15:40:28 - cmdstanpy - INFO - Chain [1] done processing\n",
      "15:40:28 - cmdstanpy - INFO - Chain [1] start processing\n",
      "15:40:29 - cmdstanpy - INFO - Chain [1] done processing\n",
      "15:40:29 - cmdstanpy - INFO - Chain [1] start processing\n",
      "15:40:29 - cmdstanpy - INFO - Chain [1] done processing\n",
      "15:40:30 - cmdstanpy - INFO - Chain [1] start processing\n",
      "15:40:30 - cmdstanpy - INFO - Chain [1] done processing\n",
      "15:40:30 - cmdstanpy - INFO - Chain [1] start processing\n",
      "15:40:31 - cmdstanpy - INFO - Chain [1] done processing\n",
      "15:40:31 - cmdstanpy - INFO - Chain [1] start processing\n",
      "15:40:31 - cmdstanpy - INFO - Chain [1] done processing\n",
      "15:40:31 - cmdstanpy - INFO - Chain [1] start processing\n",
      "15:40:32 - cmdstanpy - INFO - Chain [1] done processing\n",
      "15:40:32 - cmdstanpy - INFO - Chain [1] start processing\n",
      "15:40:33 - cmdstanpy - INFO - Chain [1] done processing\n",
      "15:40:33 - cmdstanpy - INFO - Chain [1] start processing\n",
      "15:40:33 - cmdstanpy - INFO - Chain [1] done processing\n",
      "15:40:33 - cmdstanpy - INFO - Chain [1] start processing\n",
      "15:40:33 - cmdstanpy - INFO - Chain [1] done processing\n",
      "15:40:34 - cmdstanpy - INFO - Chain [1] start processing\n",
      "15:40:34 - cmdstanpy - INFO - Chain [1] done processing\n",
      "15:40:34 - cmdstanpy - INFO - Chain [1] start processing\n",
      "15:40:35 - cmdstanpy - INFO - Chain [1] done processing\n",
      "15:40:35 - cmdstanpy - INFO - Chain [1] start processing\n",
      "15:40:35 - cmdstanpy - INFO - Chain [1] done processing\n",
      "15:40:35 - cmdstanpy - INFO - Chain [1] start processing\n",
      "15:40:37 - cmdstanpy - INFO - Chain [1] done processing\n",
      "15:40:37 - cmdstanpy - INFO - Chain [1] start processing\n",
      "15:40:38 - cmdstanpy - INFO - Chain [1] done processing\n",
      "15:40:38 - cmdstanpy - INFO - Chain [1] start processing\n",
      "15:40:38 - cmdstanpy - INFO - Chain [1] done processing\n",
      "15:40:38 - cmdstanpy - INFO - Chain [1] start processing\n",
      "15:40:39 - cmdstanpy - INFO - Chain [1] done processing\n",
      "15:40:39 - cmdstanpy - INFO - Chain [1] start processing\n",
      "15:40:40 - cmdstanpy - INFO - Chain [1] done processing\n",
      "15:40:40 - cmdstanpy - INFO - Chain [1] start processing\n",
      "15:40:40 - cmdstanpy - INFO - Chain [1] done processing\n",
      "15:40:40 - cmdstanpy - INFO - Chain [1] start processing\n",
      "15:40:41 - cmdstanpy - INFO - Chain [1] done processing\n",
      "15:40:41 - cmdstanpy - INFO - Chain [1] start processing\n",
      "15:40:41 - cmdstanpy - INFO - Chain [1] done processing\n",
      "15:40:42 - cmdstanpy - INFO - Chain [1] start processing\n",
      "15:40:42 - cmdstanpy - INFO - Chain [1] done processing\n",
      "15:40:42 - cmdstanpy - INFO - Chain [1] start processing\n",
      "15:40:43 - cmdstanpy - INFO - Chain [1] done processing\n",
      "15:40:43 - cmdstanpy - INFO - Chain [1] start processing\n",
      "15:40:44 - cmdstanpy - INFO - Chain [1] done processing\n",
      "15:40:44 - cmdstanpy - INFO - Chain [1] start processing\n",
      "15:40:44 - cmdstanpy - INFO - Chain [1] done processing\n",
      "15:40:45 - cmdstanpy - INFO - Chain [1] start processing\n",
      "15:40:45 - cmdstanpy - INFO - Chain [1] done processing\n",
      "15:40:45 - cmdstanpy - INFO - Chain [1] start processing\n",
      "15:40:45 - cmdstanpy - INFO - Chain [1] done processing\n",
      "15:40:46 - cmdstanpy - INFO - Chain [1] start processing\n",
      "15:40:46 - cmdstanpy - INFO - Chain [1] done processing\n"
     ]
    }
   ],
   "source": [
    "market_forecast = forecast_for_target(df, 'market_revenue')\n",
    "amazon_forecast = forecast_for_target(df, 'revenue_amazon')"
   ]
  },
  {
   "cell_type": "markdown",
   "metadata": {},
   "source": [
    "Збереження результатів в Датасет."
   ]
  },
  {
   "cell_type": "code",
   "execution_count": 7,
   "metadata": {},
   "outputs": [],
   "source": [
    "df = df.merge(market_forecast, on=['month', 'product_group_id'], how='left', suffixes=('', '_forecasted'))\n",
    "df = df.merge(amazon_forecast, on=['month', 'product_group_id'], how='left', suffixes=('', '_forecasted'))"
   ]
  },
  {
   "cell_type": "code",
   "execution_count": 8,
   "metadata": {},
   "outputs": [],
   "source": [
    "df['market_revenue'] = df['market_revenue'].fillna(df['market_revenue_forecasted'])\n",
    "df['revenue_amazon'] = df['revenue_amazon'].fillna(df['revenue_amazon_forecasted'])\n"
   ]
  },
  {
   "cell_type": "code",
   "execution_count": 9,
   "metadata": {},
   "outputs": [],
   "source": [
    "df.drop(columns=['market_revenue_forecasted', 'revenue_amazon_forecasted'], inplace=True)"
   ]
  },
  {
   "cell_type": "code",
   "execution_count": 10,
   "metadata": {},
   "outputs": [],
   "source": [
    "df.to_csv('forecasted_market_amazon_revenue.csv', index=False)"
   ]
  },
  {
   "cell_type": "code",
   "execution_count": 11,
   "metadata": {},
   "outputs": [
    {
     "data": {
      "text/html": [
       "<div>\n",
       "<style scoped>\n",
       "    .dataframe tbody tr th:only-of-type {\n",
       "        vertical-align: middle;\n",
       "    }\n",
       "\n",
       "    .dataframe tbody tr th {\n",
       "        vertical-align: top;\n",
       "    }\n",
       "\n",
       "    .dataframe thead th {\n",
       "        text-align: right;\n",
       "    }\n",
       "</style>\n",
       "<table border=\"1\" class=\"dataframe\">\n",
       "  <thead>\n",
       "    <tr style=\"text-align: right;\">\n",
       "      <th></th>\n",
       "      <th>month</th>\n",
       "      <th>product_group_name</th>\n",
       "      <th>product_group_id</th>\n",
       "      <th>market_revenue</th>\n",
       "      <th>revenue_amazon</th>\n",
       "    </tr>\n",
       "  </thead>\n",
       "  <tbody>\n",
       "    <tr>\n",
       "      <th>72</th>\n",
       "      <td>2025-01-01</td>\n",
       "      <td>Portable Computers</td>\n",
       "      <td>1</td>\n",
       "      <td>1.326556e+10</td>\n",
       "      <td>3.154167e+09</td>\n",
       "    </tr>\n",
       "    <tr>\n",
       "      <th>73</th>\n",
       "      <td>2025-01-02</td>\n",
       "      <td>Portable Computers</td>\n",
       "      <td>1</td>\n",
       "      <td>1.466801e+10</td>\n",
       "      <td>3.805620e+09</td>\n",
       "    </tr>\n",
       "    <tr>\n",
       "      <th>74</th>\n",
       "      <td>2025-01-03</td>\n",
       "      <td>Portable Computers</td>\n",
       "      <td>1</td>\n",
       "      <td>1.235090e+10</td>\n",
       "      <td>3.316072e+09</td>\n",
       "    </tr>\n",
       "    <tr>\n",
       "      <th>75</th>\n",
       "      <td>2025-01-04</td>\n",
       "      <td>Portable Computers</td>\n",
       "      <td>1</td>\n",
       "      <td>1.347644e+10</td>\n",
       "      <td>3.599457e+09</td>\n",
       "    </tr>\n",
       "    <tr>\n",
       "      <th>76</th>\n",
       "      <td>2025-01-05</td>\n",
       "      <td>Portable Computers</td>\n",
       "      <td>1</td>\n",
       "      <td>1.212867e+10</td>\n",
       "      <td>3.212528e+09</td>\n",
       "    </tr>\n",
       "  </tbody>\n",
       "</table>\n",
       "</div>"
      ],
      "text/plain": [
       "        month  product_group_name  product_group_id  market_revenue  \\\n",
       "72 2025-01-01  Portable Computers                 1    1.326556e+10   \n",
       "73 2025-01-02  Portable Computers                 1    1.466801e+10   \n",
       "74 2025-01-03  Portable Computers                 1    1.235090e+10   \n",
       "75 2025-01-04  Portable Computers                 1    1.347644e+10   \n",
       "76 2025-01-05  Portable Computers                 1    1.212867e+10   \n",
       "\n",
       "    revenue_amazon  \n",
       "72    3.154167e+09  \n",
       "73    3.805620e+09  \n",
       "74    3.316072e+09  \n",
       "75    3.599457e+09  \n",
       "76    3.212528e+09  "
      ]
     },
     "execution_count": 11,
     "metadata": {},
     "output_type": "execute_result"
    }
   ],
   "source": [
    "df[df['month'].dt.year == 2025].head()"
   ]
  }
 ],
 "metadata": {
  "kernelspec": {
   "display_name": "Python 3",
   "language": "python",
   "name": "python3"
  },
  "language_info": {
   "codemirror_mode": {
    "name": "ipython",
    "version": 3
   },
   "file_extension": ".py",
   "mimetype": "text/x-python",
   "name": "python",
   "nbconvert_exporter": "python",
   "pygments_lexer": "ipython3",
   "version": "3.12.9"
  }
 },
 "nbformat": 4,
 "nbformat_minor": 2
}
