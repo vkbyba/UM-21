{
 "cells": [
  {
   "cell_type": "markdown",
   "metadata": {},
   "source": [
    "pip install prophet --quiet - встановіть через термінал."
   ]
  },
  {
   "cell_type": "markdown",
   "metadata": {},
   "source": [
    "Завантаження, та підготовка даних."
   ]
  },
  {
   "cell_type": "code",
   "execution_count": 7,
   "metadata": {},
   "outputs": [
    {
     "ename": "AttributeError",
     "evalue": "partially initialized module 'pandas' has no attribute '_pandas_datetime_CAPI' (most likely due to a circular import)",
     "output_type": "error",
     "traceback": [
      "\u001b[1;31m---------------------------------------------------------------------------\u001b[0m",
      "\u001b[1;31mAttributeError\u001b[0m                            Traceback (most recent call last)",
      "Cell \u001b[1;32mIn[7], line 1\u001b[0m\n\u001b[1;32m----> 1\u001b[0m \u001b[38;5;28;01mimport\u001b[39;00m \u001b[38;5;21;01mpandas\u001b[39;00m \u001b[38;5;28;01mas\u001b[39;00m \u001b[38;5;21;01mpd\u001b[39;00m\n\u001b[0;32m      2\u001b[0m \u001b[38;5;28;01mfrom\u001b[39;00m \u001b[38;5;21;01mprophet\u001b[39;00m \u001b[38;5;28;01mimport\u001b[39;00m Prophet\n",
      "File \u001b[1;32m~\\AppData\\Local\\Packages\\PythonSoftwareFoundation.Python.3.12_qbz5n2kfra8p0\\LocalCache\\local-packages\\Python312\\site-packages\\pandas\\__init__.py:62\u001b[0m\n\u001b[0;32m     59\u001b[0m \u001b[38;5;66;03m# let init-time option registration happen\u001b[39;00m\n\u001b[0;32m     60\u001b[0m \u001b[38;5;28;01mimport\u001b[39;00m \u001b[38;5;21;01mpandas\u001b[39;00m\u001b[38;5;21;01m.\u001b[39;00m\u001b[38;5;21;01mcore\u001b[39;00m\u001b[38;5;21;01m.\u001b[39;00m\u001b[38;5;21;01mconfig_init\u001b[39;00m  \u001b[38;5;66;03m# pyright: ignore[reportUnusedImport] # noqa: F401\u001b[39;00m\n\u001b[1;32m---> 62\u001b[0m \u001b[38;5;28;01mfrom\u001b[39;00m \u001b[38;5;21;01mpandas\u001b[39;00m\u001b[38;5;21;01m.\u001b[39;00m\u001b[38;5;21;01mcore\u001b[39;00m\u001b[38;5;21;01m.\u001b[39;00m\u001b[38;5;21;01mapi\u001b[39;00m \u001b[38;5;28;01mimport\u001b[39;00m (\n\u001b[0;32m     63\u001b[0m     \u001b[38;5;66;03m# dtype\u001b[39;00m\n\u001b[0;32m     64\u001b[0m     ArrowDtype,\n\u001b[0;32m     65\u001b[0m     Int8Dtype,\n\u001b[0;32m     66\u001b[0m     Int16Dtype,\n\u001b[0;32m     67\u001b[0m     Int32Dtype,\n\u001b[0;32m     68\u001b[0m     Int64Dtype,\n\u001b[0;32m     69\u001b[0m     UInt8Dtype,\n\u001b[0;32m     70\u001b[0m     UInt16Dtype,\n\u001b[0;32m     71\u001b[0m     UInt32Dtype,\n\u001b[0;32m     72\u001b[0m     UInt64Dtype,\n\u001b[0;32m     73\u001b[0m     Float32Dtype,\n\u001b[0;32m     74\u001b[0m     Float64Dtype,\n\u001b[0;32m     75\u001b[0m     CategoricalDtype,\n\u001b[0;32m     76\u001b[0m     PeriodDtype,\n\u001b[0;32m     77\u001b[0m     IntervalDtype,\n\u001b[0;32m     78\u001b[0m     DatetimeTZDtype,\n\u001b[0;32m     79\u001b[0m     StringDtype,\n\u001b[0;32m     80\u001b[0m     BooleanDtype,\n\u001b[0;32m     81\u001b[0m     \u001b[38;5;66;03m# missing\u001b[39;00m\n\u001b[0;32m     82\u001b[0m     NA,\n\u001b[0;32m     83\u001b[0m     isna,\n\u001b[0;32m     84\u001b[0m     isnull,\n\u001b[0;32m     85\u001b[0m     notna,\n\u001b[0;32m     86\u001b[0m     notnull,\n\u001b[0;32m     87\u001b[0m     \u001b[38;5;66;03m# indexes\u001b[39;00m\n\u001b[0;32m     88\u001b[0m     Index,\n\u001b[0;32m     89\u001b[0m     CategoricalIndex,\n\u001b[0;32m     90\u001b[0m     RangeIndex,\n\u001b[0;32m     91\u001b[0m     MultiIndex,\n\u001b[0;32m     92\u001b[0m     IntervalIndex,\n\u001b[0;32m     93\u001b[0m     TimedeltaIndex,\n\u001b[0;32m     94\u001b[0m     DatetimeIndex,\n\u001b[0;32m     95\u001b[0m     PeriodIndex,\n\u001b[0;32m     96\u001b[0m     IndexSlice,\n\u001b[0;32m     97\u001b[0m     \u001b[38;5;66;03m# tseries\u001b[39;00m\n\u001b[0;32m     98\u001b[0m     NaT,\n\u001b[0;32m     99\u001b[0m     Period,\n\u001b[0;32m    100\u001b[0m     period_range,\n\u001b[0;32m    101\u001b[0m     Timedelta,\n\u001b[0;32m    102\u001b[0m     timedelta_range,\n\u001b[0;32m    103\u001b[0m     Timestamp,\n\u001b[0;32m    104\u001b[0m     date_range,\n\u001b[0;32m    105\u001b[0m     bdate_range,\n\u001b[0;32m    106\u001b[0m     Interval,\n\u001b[0;32m    107\u001b[0m     interval_range,\n\u001b[0;32m    108\u001b[0m     DateOffset,\n\u001b[0;32m    109\u001b[0m     \u001b[38;5;66;03m# conversion\u001b[39;00m\n\u001b[0;32m    110\u001b[0m     to_numeric,\n\u001b[0;32m    111\u001b[0m     to_datetime,\n\u001b[0;32m    112\u001b[0m     to_timedelta,\n\u001b[0;32m    113\u001b[0m     \u001b[38;5;66;03m# misc\u001b[39;00m\n\u001b[0;32m    114\u001b[0m     Flags,\n\u001b[0;32m    115\u001b[0m     Grouper,\n\u001b[0;32m    116\u001b[0m     factorize,\n\u001b[0;32m    117\u001b[0m     unique,\n\u001b[0;32m    118\u001b[0m     value_counts,\n\u001b[0;32m    119\u001b[0m     NamedAgg,\n\u001b[0;32m    120\u001b[0m     array,\n\u001b[0;32m    121\u001b[0m     Categorical,\n\u001b[0;32m    122\u001b[0m     set_eng_float_format,\n\u001b[0;32m    123\u001b[0m     Series,\n\u001b[0;32m    124\u001b[0m     DataFrame,\n\u001b[0;32m    125\u001b[0m )\n\u001b[0;32m    127\u001b[0m \u001b[38;5;28;01mfrom\u001b[39;00m \u001b[38;5;21;01mpandas\u001b[39;00m\u001b[38;5;21;01m.\u001b[39;00m\u001b[38;5;21;01mcore\u001b[39;00m\u001b[38;5;21;01m.\u001b[39;00m\u001b[38;5;21;01mdtypes\u001b[39;00m\u001b[38;5;21;01m.\u001b[39;00m\u001b[38;5;21;01mdtypes\u001b[39;00m \u001b[38;5;28;01mimport\u001b[39;00m SparseDtype\n\u001b[0;32m    129\u001b[0m \u001b[38;5;28;01mfrom\u001b[39;00m \u001b[38;5;21;01mpandas\u001b[39;00m\u001b[38;5;21;01m.\u001b[39;00m\u001b[38;5;21;01mtseries\u001b[39;00m\u001b[38;5;21;01m.\u001b[39;00m\u001b[38;5;21;01mapi\u001b[39;00m \u001b[38;5;28;01mimport\u001b[39;00m infer_freq\n",
      "File \u001b[1;32m~\\AppData\\Local\\Packages\\PythonSoftwareFoundation.Python.3.12_qbz5n2kfra8p0\\LocalCache\\local-packages\\Python312\\site-packages\\pandas\\core\\api.py:1\u001b[0m\n\u001b[1;32m----> 1\u001b[0m \u001b[38;5;28;01mfrom\u001b[39;00m \u001b[38;5;21;01mpandas\u001b[39;00m\u001b[38;5;21;01m.\u001b[39;00m\u001b[38;5;21;01m_libs\u001b[39;00m \u001b[38;5;28;01mimport\u001b[39;00m (\n\u001b[0;32m      2\u001b[0m     NaT,\n\u001b[0;32m      3\u001b[0m     Period,\n\u001b[0;32m      4\u001b[0m     Timedelta,\n\u001b[0;32m      5\u001b[0m     Timestamp,\n\u001b[0;32m      6\u001b[0m )\n\u001b[0;32m      7\u001b[0m \u001b[38;5;28;01mfrom\u001b[39;00m \u001b[38;5;21;01mpandas\u001b[39;00m\u001b[38;5;21;01m.\u001b[39;00m\u001b[38;5;21;01m_libs\u001b[39;00m\u001b[38;5;21;01m.\u001b[39;00m\u001b[38;5;21;01mmissing\u001b[39;00m \u001b[38;5;28;01mimport\u001b[39;00m NA\n\u001b[0;32m      9\u001b[0m \u001b[38;5;28;01mfrom\u001b[39;00m \u001b[38;5;21;01mpandas\u001b[39;00m\u001b[38;5;21;01m.\u001b[39;00m\u001b[38;5;21;01mcore\u001b[39;00m\u001b[38;5;21;01m.\u001b[39;00m\u001b[38;5;21;01mdtypes\u001b[39;00m\u001b[38;5;21;01m.\u001b[39;00m\u001b[38;5;21;01mdtypes\u001b[39;00m \u001b[38;5;28;01mimport\u001b[39;00m (\n\u001b[0;32m     10\u001b[0m     ArrowDtype,\n\u001b[0;32m     11\u001b[0m     CategoricalDtype,\n\u001b[1;32m   (...)\u001b[0m\n\u001b[0;32m     14\u001b[0m     PeriodDtype,\n\u001b[0;32m     15\u001b[0m )\n",
      "File \u001b[1;32m~\\AppData\\Local\\Packages\\PythonSoftwareFoundation.Python.3.12_qbz5n2kfra8p0\\LocalCache\\local-packages\\Python312\\site-packages\\pandas\\_libs\\__init__.py:18\u001b[0m\n\u001b[0;32m     16\u001b[0m \u001b[38;5;28;01mimport\u001b[39;00m \u001b[38;5;21;01mpandas\u001b[39;00m\u001b[38;5;21;01m.\u001b[39;00m\u001b[38;5;21;01m_libs\u001b[39;00m\u001b[38;5;21;01m.\u001b[39;00m\u001b[38;5;21;01mpandas_parser\u001b[39;00m  \u001b[38;5;66;03m# isort: skip # type: ignore[reportUnusedImport]\u001b[39;00m\n\u001b[0;32m     17\u001b[0m \u001b[38;5;28;01mimport\u001b[39;00m \u001b[38;5;21;01mpandas\u001b[39;00m\u001b[38;5;21;01m.\u001b[39;00m\u001b[38;5;21;01m_libs\u001b[39;00m\u001b[38;5;21;01m.\u001b[39;00m\u001b[38;5;21;01mpandas_datetime\u001b[39;00m  \u001b[38;5;66;03m# noqa: F401 # isort: skip # type: ignore[reportUnusedImport]\u001b[39;00m\n\u001b[1;32m---> 18\u001b[0m \u001b[38;5;28;01mfrom\u001b[39;00m \u001b[38;5;21;01mpandas\u001b[39;00m\u001b[38;5;21;01m.\u001b[39;00m\u001b[38;5;21;01m_libs\u001b[39;00m\u001b[38;5;21;01m.\u001b[39;00m\u001b[38;5;21;01minterval\u001b[39;00m \u001b[38;5;28;01mimport\u001b[39;00m Interval\n\u001b[0;32m     19\u001b[0m \u001b[38;5;28;01mfrom\u001b[39;00m \u001b[38;5;21;01mpandas\u001b[39;00m\u001b[38;5;21;01m.\u001b[39;00m\u001b[38;5;21;01m_libs\u001b[39;00m\u001b[38;5;21;01m.\u001b[39;00m\u001b[38;5;21;01mtslibs\u001b[39;00m \u001b[38;5;28;01mimport\u001b[39;00m (\n\u001b[0;32m     20\u001b[0m     NaT,\n\u001b[0;32m     21\u001b[0m     NaTType,\n\u001b[1;32m   (...)\u001b[0m\n\u001b[0;32m     26\u001b[0m     iNaT,\n\u001b[0;32m     27\u001b[0m )\n",
      "File \u001b[1;32minterval.pyx:1\u001b[0m, in \u001b[0;36minit pandas._libs.interval\u001b[1;34m()\u001b[0m\n",
      "File \u001b[1;32mhashtable.pyx:1\u001b[0m, in \u001b[0;36minit pandas._libs.hashtable\u001b[1;34m()\u001b[0m\n",
      "File \u001b[1;32mmissing.pyx:1\u001b[0m, in \u001b[0;36minit pandas._libs.missing\u001b[1;34m()\u001b[0m\n",
      "File \u001b[1;32m~\\AppData\\Local\\Packages\\PythonSoftwareFoundation.Python.3.12_qbz5n2kfra8p0\\LocalCache\\local-packages\\Python312\\site-packages\\pandas\\_libs\\tslibs\\__init__.py:39\u001b[0m\n\u001b[0;32m      1\u001b[0m __all__ \u001b[38;5;241m=\u001b[39m [\n\u001b[0;32m      2\u001b[0m     \u001b[38;5;124m\"\u001b[39m\u001b[38;5;124mdtypes\u001b[39m\u001b[38;5;124m\"\u001b[39m,\n\u001b[0;32m      3\u001b[0m     \u001b[38;5;124m\"\u001b[39m\u001b[38;5;124mlocalize_pydatetime\u001b[39m\u001b[38;5;124m\"\u001b[39m,\n\u001b[1;32m   (...)\u001b[0m\n\u001b[0;32m     36\u001b[0m     \u001b[38;5;124m\"\u001b[39m\u001b[38;5;124mis_supported_dtype\u001b[39m\u001b[38;5;124m\"\u001b[39m,\n\u001b[0;32m     37\u001b[0m ]\n\u001b[1;32m---> 39\u001b[0m \u001b[38;5;28;01mfrom\u001b[39;00m \u001b[38;5;21;01mpandas\u001b[39;00m\u001b[38;5;21;01m.\u001b[39;00m\u001b[38;5;21;01m_libs\u001b[39;00m\u001b[38;5;21;01m.\u001b[39;00m\u001b[38;5;21;01mtslibs\u001b[39;00m \u001b[38;5;28;01mimport\u001b[39;00m dtypes  \u001b[38;5;66;03m# pylint: disable=import-self\u001b[39;00m\n\u001b[0;32m     40\u001b[0m \u001b[38;5;28;01mfrom\u001b[39;00m \u001b[38;5;21;01mpandas\u001b[39;00m\u001b[38;5;21;01m.\u001b[39;00m\u001b[38;5;21;01m_libs\u001b[39;00m\u001b[38;5;21;01m.\u001b[39;00m\u001b[38;5;21;01mtslibs\u001b[39;00m\u001b[38;5;21;01m.\u001b[39;00m\u001b[38;5;21;01mconversion\u001b[39;00m \u001b[38;5;28;01mimport\u001b[39;00m localize_pydatetime\n\u001b[0;32m     41\u001b[0m \u001b[38;5;28;01mfrom\u001b[39;00m \u001b[38;5;21;01mpandas\u001b[39;00m\u001b[38;5;21;01m.\u001b[39;00m\u001b[38;5;21;01m_libs\u001b[39;00m\u001b[38;5;21;01m.\u001b[39;00m\u001b[38;5;21;01mtslibs\u001b[39;00m\u001b[38;5;21;01m.\u001b[39;00m\u001b[38;5;21;01mdtypes\u001b[39;00m \u001b[38;5;28;01mimport\u001b[39;00m (\n\u001b[0;32m     42\u001b[0m     Resolution,\n\u001b[0;32m     43\u001b[0m     periods_per_day,\n\u001b[0;32m     44\u001b[0m     periods_per_second,\n\u001b[0;32m     45\u001b[0m )\n",
      "File \u001b[1;32mdtypes.pyx:155\u001b[0m, in \u001b[0;36minit pandas._libs.tslibs.dtypes\u001b[1;34m()\u001b[0m\n",
      "\u001b[1;31mAttributeError\u001b[0m: partially initialized module 'pandas' has no attribute '_pandas_datetime_CAPI' (most likely due to a circular import)"
     ]
    }
   ],
   "source": [
    "import pandas as pd\n",
    "from prophet import Prophet"
   ]
  },
  {
   "cell_type": "code",
   "execution_count": 3,
   "metadata": {},
   "outputs": [],
   "source": [
    "df = pd.read_csv('forecast_of_market_dataset.csv')"
   ]
  },
  {
   "cell_type": "code",
   "execution_count": 4,
   "metadata": {},
   "outputs": [],
   "source": [
    "df['month'] = pd.to_datetime(df['month'], dayfirst=True)"
   ]
  },
  {
   "cell_type": "markdown",
   "metadata": {},
   "source": [
    "Запуск моделі"
   ]
  },
  {
   "cell_type": "code",
   "execution_count": 5,
   "metadata": {},
   "outputs": [],
   "source": [
    "def forecast_for_target(df, target_col):\n",
    "    updated_rows = []\n",
    "\n",
    "    for group in df['product_group_id'].unique():\n",
    "        group_df = df[df['product_group_id'] == group].copy()\n",
    "\n",
    "        # Separate historical and future\n",
    "        hist = group_df[group_df[target_col].notna()][['month', target_col]].copy()\n",
    "        future = group_df[group_df[target_col].isna()][['month']].copy()\n",
    "\n",
    "        # Skip if not enough history\n",
    "        if len(hist) < 6:\n",
    "            continue\n",
    "\n",
    "        # Rename for Prophet\n",
    "        hist.rename(columns={'month': 'ds', target_col: 'y'}, inplace=True)\n",
    "\n",
    "        # Train model\n",
    "        model = Prophet()\n",
    "        model.fit(hist)\n",
    "\n",
    "        # Make future df\n",
    "        future.rename(columns={'month': 'ds'}, inplace=True)\n",
    "        forecast = model.predict(future)\n",
    "\n",
    "        # Get only predicted values\n",
    "        predicted = forecast[['ds', 'yhat']].copy()\n",
    "        predicted.rename(columns={'ds': 'month', 'yhat': target_col}, inplace=True)\n",
    "        predicted['product_group_id'] = group\n",
    "\n",
    "        updated_rows.append(predicted)\n",
    "\n",
    "    return pd.concat(updated_rows, ignore_index=True)"
   ]
  },
  {
   "cell_type": "code",
   "execution_count": 6,
   "metadata": {},
   "outputs": [
    {
     "name": "stderr",
     "output_type": "stream",
     "text": [
      "15:40:14 - cmdstanpy - INFO - Chain [1] start processing\n",
      "15:40:14 - cmdstanpy - INFO - Chain [1] done processing\n",
      "15:40:15 - cmdstanpy - INFO - Chain [1] start processing\n",
      "15:40:15 - cmdstanpy - INFO - Chain [1] done processing\n",
      "15:40:15 - cmdstanpy - INFO - Chain [1] start processing\n",
      "15:40:16 - cmdstanpy - INFO - Chain [1] done processing\n",
      "15:40:16 - cmdstanpy - INFO - Chain [1] start processing\n",
      "15:40:16 - cmdstanpy - INFO - Chain [1] done processing\n",
      "15:40:17 - cmdstanpy - INFO - Chain [1] start processing\n",
      "15:40:17 - cmdstanpy - INFO - Chain [1] done processing\n",
      "15:40:17 - cmdstanpy - INFO - Chain [1] start processing\n",
      "15:40:18 - cmdstanpy - INFO - Chain [1] done processing\n",
      "15:40:18 - cmdstanpy - INFO - Chain [1] start processing\n",
      "15:40:19 - cmdstanpy - INFO - Chain [1] done processing\n",
      "15:40:19 - cmdstanpy - INFO - Chain [1] start processing\n",
      "15:40:19 - cmdstanpy - INFO - Chain [1] done processing\n",
      "15:40:20 - cmdstanpy - INFO - Chain [1] start processing\n",
      "15:40:20 - cmdstanpy - INFO - Chain [1] done processing\n",
      "15:40:20 - cmdstanpy - INFO - Chain [1] start processing\n",
      "15:40:21 - cmdstanpy - INFO - Chain [1] done processing\n",
      "15:40:21 - cmdstanpy - INFO - Chain [1] start processing\n",
      "15:40:21 - cmdstanpy - INFO - Chain [1] done processing\n",
      "15:40:21 - cmdstanpy - INFO - Chain [1] start processing\n",
      "15:40:21 - cmdstanpy - INFO - Chain [1] done processing\n",
      "15:40:22 - cmdstanpy - INFO - Chain [1] start processing\n",
      "15:40:22 - cmdstanpy - INFO - Chain [1] done processing\n",
      "15:40:22 - cmdstanpy - INFO - Chain [1] start processing\n",
      "15:40:23 - cmdstanpy - INFO - Chain [1] done processing\n",
      "15:40:23 - cmdstanpy - INFO - Chain [1] start processing\n",
      "15:40:23 - cmdstanpy - INFO - Chain [1] done processing\n",
      "15:40:24 - cmdstanpy - INFO - Chain [1] start processing\n",
      "15:40:24 - cmdstanpy - INFO - Chain [1] done processing\n",
      "15:40:24 - cmdstanpy - INFO - Chain [1] start processing\n",
      "15:40:24 - cmdstanpy - INFO - Chain [1] done processing\n",
      "15:40:24 - cmdstanpy - INFO - Chain [1] start processing\n",
      "15:40:25 - cmdstanpy - INFO - Chain [1] done processing\n",
      "15:40:26 - cmdstanpy - INFO - Chain [1] start processing\n",
      "15:40:26 - cmdstanpy - INFO - Chain [1] done processing\n",
      "15:40:26 - cmdstanpy - INFO - Chain [1] start processing\n",
      "15:40:26 - cmdstanpy - INFO - Chain [1] done processing\n",
      "15:40:27 - cmdstanpy - INFO - Chain [1] start processing\n",
      "15:40:27 - cmdstanpy - INFO - Chain [1] done processing\n",
      "15:40:27 - cmdstanpy - INFO - Chain [1] start processing\n",
      "15:40:27 - cmdstanpy - INFO - Chain [1] done processing\n",
      "15:40:28 - cmdstanpy - INFO - Chain [1] start processing\n",
      "15:40:28 - cmdstanpy - INFO - Chain [1] done processing\n",
      "15:40:28 - cmdstanpy - INFO - Chain [1] start processing\n",
      "15:40:28 - cmdstanpy - INFO - Chain [1] done processing\n",
      "15:40:28 - cmdstanpy - INFO - Chain [1] start processing\n",
      "15:40:29 - cmdstanpy - INFO - Chain [1] done processing\n",
      "15:40:29 - cmdstanpy - INFO - Chain [1] start processing\n",
      "15:40:29 - cmdstanpy - INFO - Chain [1] done processing\n",
      "15:40:30 - cmdstanpy - INFO - Chain [1] start processing\n",
      "15:40:30 - cmdstanpy - INFO - Chain [1] done processing\n",
      "15:40:30 - cmdstanpy - INFO - Chain [1] start processing\n",
      "15:40:31 - cmdstanpy - INFO - Chain [1] done processing\n",
      "15:40:31 - cmdstanpy - INFO - Chain [1] start processing\n",
      "15:40:31 - cmdstanpy - INFO - Chain [1] done processing\n",
      "15:40:31 - cmdstanpy - INFO - Chain [1] start processing\n",
      "15:40:32 - cmdstanpy - INFO - Chain [1] done processing\n",
      "15:40:32 - cmdstanpy - INFO - Chain [1] start processing\n",
      "15:40:33 - cmdstanpy - INFO - Chain [1] done processing\n",
      "15:40:33 - cmdstanpy - INFO - Chain [1] start processing\n",
      "15:40:33 - cmdstanpy - INFO - Chain [1] done processing\n",
      "15:40:33 - cmdstanpy - INFO - Chain [1] start processing\n",
      "15:40:33 - cmdstanpy - INFO - Chain [1] done processing\n",
      "15:40:34 - cmdstanpy - INFO - Chain [1] start processing\n",
      "15:40:34 - cmdstanpy - INFO - Chain [1] done processing\n",
      "15:40:34 - cmdstanpy - INFO - Chain [1] start processing\n",
      "15:40:35 - cmdstanpy - INFO - Chain [1] done processing\n",
      "15:40:35 - cmdstanpy - INFO - Chain [1] start processing\n",
      "15:40:35 - cmdstanpy - INFO - Chain [1] done processing\n",
      "15:40:35 - cmdstanpy - INFO - Chain [1] start processing\n",
      "15:40:37 - cmdstanpy - INFO - Chain [1] done processing\n",
      "15:40:37 - cmdstanpy - INFO - Chain [1] start processing\n",
      "15:40:38 - cmdstanpy - INFO - Chain [1] done processing\n",
      "15:40:38 - cmdstanpy - INFO - Chain [1] start processing\n",
      "15:40:38 - cmdstanpy - INFO - Chain [1] done processing\n",
      "15:40:38 - cmdstanpy - INFO - Chain [1] start processing\n",
      "15:40:39 - cmdstanpy - INFO - Chain [1] done processing\n",
      "15:40:39 - cmdstanpy - INFO - Chain [1] start processing\n",
      "15:40:40 - cmdstanpy - INFO - Chain [1] done processing\n",
      "15:40:40 - cmdstanpy - INFO - Chain [1] start processing\n",
      "15:40:40 - cmdstanpy - INFO - Chain [1] done processing\n",
      "15:40:40 - cmdstanpy - INFO - Chain [1] start processing\n",
      "15:40:41 - cmdstanpy - INFO - Chain [1] done processing\n",
      "15:40:41 - cmdstanpy - INFO - Chain [1] start processing\n",
      "15:40:41 - cmdstanpy - INFO - Chain [1] done processing\n",
      "15:40:42 - cmdstanpy - INFO - Chain [1] start processing\n",
      "15:40:42 - cmdstanpy - INFO - Chain [1] done processing\n",
      "15:40:42 - cmdstanpy - INFO - Chain [1] start processing\n",
      "15:40:43 - cmdstanpy - INFO - Chain [1] done processing\n",
      "15:40:43 - cmdstanpy - INFO - Chain [1] start processing\n",
      "15:40:44 - cmdstanpy - INFO - Chain [1] done processing\n",
      "15:40:44 - cmdstanpy - INFO - Chain [1] start processing\n",
      "15:40:44 - cmdstanpy - INFO - Chain [1] done processing\n",
      "15:40:45 - cmdstanpy - INFO - Chain [1] start processing\n",
      "15:40:45 - cmdstanpy - INFO - Chain [1] done processing\n",
      "15:40:45 - cmdstanpy - INFO - Chain [1] start processing\n",
      "15:40:45 - cmdstanpy - INFO - Chain [1] done processing\n",
      "15:40:46 - cmdstanpy - INFO - Chain [1] start processing\n",
      "15:40:46 - cmdstanpy - INFO - Chain [1] done processing\n"
     ]
    }
   ],
   "source": [
    "market_forecast = forecast_for_target(df, 'market_revenue')\n",
    "amazon_forecast = forecast_for_target(df, 'revenue_amazon')"
   ]
  },
  {
   "cell_type": "markdown",
   "metadata": {},
   "source": [
    "Збереження результатів в Датасет."
   ]
  },
  {
   "cell_type": "code",
   "execution_count": 7,
   "metadata": {},
   "outputs": [],
   "source": [
    "df = df.merge(market_forecast, on=['month', 'product_group_id'], how='left', suffixes=('', '_forecasted'))\n",
    "df = df.merge(amazon_forecast, on=['month', 'product_group_id'], how='left', suffixes=('', '_forecasted'))"
   ]
  },
  {
   "cell_type": "code",
   "execution_count": 8,
   "metadata": {},
   "outputs": [],
   "source": [
    "df['market_revenue'] = df['market_revenue'].fillna(df['market_revenue_forecasted'])\n",
    "df['revenue_amazon'] = df['revenue_amazon'].fillna(df['revenue_amazon_forecasted'])\n"
   ]
  },
  {
   "cell_type": "code",
   "execution_count": 9,
   "metadata": {},
   "outputs": [],
   "source": [
    "df.drop(columns=['market_revenue_forecasted', 'revenue_amazon_forecasted'], inplace=True)"
   ]
  },
  {
   "cell_type": "code",
   "execution_count": 10,
   "metadata": {},
   "outputs": [],
   "source": [
    "df.to_csv('forecasted_market_amazon_revenue.csv', index=False)"
   ]
  },
  {
   "cell_type": "code",
   "execution_count": 11,
   "metadata": {},
   "outputs": [
    {
     "data": {
      "text/html": [
       "<div>\n",
       "<style scoped>\n",
       "    .dataframe tbody tr th:only-of-type {\n",
       "        vertical-align: middle;\n",
       "    }\n",
       "\n",
       "    .dataframe tbody tr th {\n",
       "        vertical-align: top;\n",
       "    }\n",
       "\n",
       "    .dataframe thead th {\n",
       "        text-align: right;\n",
       "    }\n",
       "</style>\n",
       "<table border=\"1\" class=\"dataframe\">\n",
       "  <thead>\n",
       "    <tr style=\"text-align: right;\">\n",
       "      <th></th>\n",
       "      <th>month</th>\n",
       "      <th>product_group_name</th>\n",
       "      <th>product_group_id</th>\n",
       "      <th>market_revenue</th>\n",
       "      <th>revenue_amazon</th>\n",
       "    </tr>\n",
       "  </thead>\n",
       "  <tbody>\n",
       "    <tr>\n",
       "      <th>72</th>\n",
       "      <td>2025-01-01</td>\n",
       "      <td>Portable Computers</td>\n",
       "      <td>1</td>\n",
       "      <td>1.326556e+10</td>\n",
       "      <td>3.154167e+09</td>\n",
       "    </tr>\n",
       "    <tr>\n",
       "      <th>73</th>\n",
       "      <td>2025-01-02</td>\n",
       "      <td>Portable Computers</td>\n",
       "      <td>1</td>\n",
       "      <td>1.466801e+10</td>\n",
       "      <td>3.805620e+09</td>\n",
       "    </tr>\n",
       "    <tr>\n",
       "      <th>74</th>\n",
       "      <td>2025-01-03</td>\n",
       "      <td>Portable Computers</td>\n",
       "      <td>1</td>\n",
       "      <td>1.235090e+10</td>\n",
       "      <td>3.316072e+09</td>\n",
       "    </tr>\n",
       "    <tr>\n",
       "      <th>75</th>\n",
       "      <td>2025-01-04</td>\n",
       "      <td>Portable Computers</td>\n",
       "      <td>1</td>\n",
       "      <td>1.347644e+10</td>\n",
       "      <td>3.599457e+09</td>\n",
       "    </tr>\n",
       "    <tr>\n",
       "      <th>76</th>\n",
       "      <td>2025-01-05</td>\n",
       "      <td>Portable Computers</td>\n",
       "      <td>1</td>\n",
       "      <td>1.212867e+10</td>\n",
       "      <td>3.212528e+09</td>\n",
       "    </tr>\n",
       "  </tbody>\n",
       "</table>\n",
       "</div>"
      ],
      "text/plain": [
       "        month  product_group_name  product_group_id  market_revenue  \\\n",
       "72 2025-01-01  Portable Computers                 1    1.326556e+10   \n",
       "73 2025-01-02  Portable Computers                 1    1.466801e+10   \n",
       "74 2025-01-03  Portable Computers                 1    1.235090e+10   \n",
       "75 2025-01-04  Portable Computers                 1    1.347644e+10   \n",
       "76 2025-01-05  Portable Computers                 1    1.212867e+10   \n",
       "\n",
       "    revenue_amazon  \n",
       "72    3.154167e+09  \n",
       "73    3.805620e+09  \n",
       "74    3.316072e+09  \n",
       "75    3.599457e+09  \n",
       "76    3.212528e+09  "
      ]
     },
     "execution_count": 11,
     "metadata": {},
     "output_type": "execute_result"
    }
   ],
   "source": [
    "df[df['month'].dt.year == 2025].head()"
   ]
  }
 ],
 "metadata": {
  "kernelspec": {
   "display_name": "Python 3",
   "language": "python",
   "name": "python3"
  },
  "language_info": {
   "codemirror_mode": {
    "name": "ipython",
    "version": 3
   },
   "file_extension": ".py",
   "mimetype": "text/x-python",
   "name": "python",
   "nbconvert_exporter": "python",
   "pygments_lexer": "ipython3",
   "version": "3.12.9"
  }
 },
 "nbformat": 4,
 "nbformat_minor": 2
}
